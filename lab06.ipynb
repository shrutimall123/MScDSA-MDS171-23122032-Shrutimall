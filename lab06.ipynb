{
 "cells": [
  {
   "cell_type": "markdown",
   "metadata": {},
   "source": [
    "Vowel Counter!\n",
    "\n",
    "Write a program for collecting a string from the user and counting the number of vowels.\n",
    "\n",
    "Print the total count of vowels\n",
    "Print each vowel and its count\n",
    "Calculate the percentage of vowels in the given string\n",
    "Make use of functions and format your output accordingly"
   ]
  },
  {
   "cell_type": "code",
   "execution_count": 14,
   "metadata": {},
   "outputs": [
    {
     "name": "stdout",
     "output_type": "stream",
     "text": [
      "Character Count\n",
      " The total number of vowels is = 3\n",
      "Count of  A is 0\n",
      "Count of  E is 0\n",
      "Count of  I is 2\n",
      "Count of  O is 0\n",
      "Count of  U is 1\n",
      "\n",
      "Vowels are 42.86 % in the word SHRUTII\n"
     ]
    }
   ],
   "source": [
    "\n",
    "\n",
    "def countvowels(a):\n",
    "    charcount=[0]*5\n",
    "    totalvowels=0\n",
    "    vowels =[\"A\",\"E\",\"I\",\"O\",\"U\"]\n",
    "    print(\"Character Count\")\n",
    "    for j in range(0,5):\n",
    "        for i in a:\n",
    "            if vowels[j] == i:\n",
    "                charcount[j] = charcount[j]+1\n",
    "                totalvowels = totalvowels+1\n",
    "    print(\" The total number of vowels is =\", totalvowels)  \n",
    "    for i in range(0,5):\n",
    "        print(\"Count of \",vowels[i],\"is\",charcount[i])\n",
    "    print(\"\\nVowels are\",round((totalvowels/len(a))*100,2),\"%\",\"in the word\",a)                  \n",
    "\n",
    "word = input(\"Enter the word\")\n",
    "word = word.strip() # removes whitespaces\n",
    "word = word.upper() # .upper() used for changing small letters to capital, .lower for capital to small\n",
    "countvowels(word)  # calling the function\n",
    "\n",
    "            "
   ]
  },
  {
   "cell_type": "code",
   "execution_count": null,
   "metadata": {},
   "outputs": [],
   "source": []
  }
 ],
 "metadata": {
  "kernelspec": {
   "display_name": "base",
   "language": "python",
   "name": "python3"
  },
  "language_info": {
   "codemirror_mode": {
    "name": "ipython",
    "version": 3
   },
   "file_extension": ".py",
   "mimetype": "text/x-python",
   "name": "python",
   "nbconvert_exporter": "python",
   "pygments_lexer": "ipython3",
   "version": "3.11.3"
  },
  "orig_nbformat": 4
 },
 "nbformat": 4,
 "nbformat_minor": 2
}
