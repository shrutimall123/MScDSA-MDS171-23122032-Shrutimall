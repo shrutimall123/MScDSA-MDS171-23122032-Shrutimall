{
 "cells": [
  {
   "cell_type": "code",
   "execution_count": 3,
   "metadata": {},
   "outputs": [
    {
     "name": "stdout",
     "output_type": "stream",
     "text": [
      "1.Add New Transaction\n",
      "2.Calculate Total Income and Expense\n",
      "3.Exit\n",
      "Total Income= 263000 \n",
      "Total Expense= 60530\n",
      "1.Add New Transaction\n",
      "2.Calculate Total Income and Expense\n",
      "3.Exit\n"
     ]
    }
   ],
   "source": [
    "class expenseTracker:\n",
    "    def __init__(self):\n",
    "        self.transactionDetails={\"details\":[]}\n",
    "\n",
    "    def retrieveTransactions(self):\n",
    "        for i in open(\"Expense.csv\",\"r+\").readlines():\n",
    "            line=i.split(\",\")\n",
    "            if line[2]!=\"Amount\":\n",
    "                transaction={\"type\":line[0],\"category\":line[1],\"amount\":line[2],\"description\":line[3],\"date\":line[4]}\n",
    "                self.transactionDetails[\"details\"].append(transaction)\n",
    "\n",
    "    def calculateTotal(self):\n",
    "        totalIncome=0\n",
    "        totalExpense=0\n",
    "        for i in self.transactionDetails[\"details\"]:\n",
    "            if i[\"type\"]==\"Income\":\n",
    "                totalIncome+=int(i[\"amount\"])\n",
    "            else:\n",
    "                totalExpense+=int(i[\"amount\"])\n",
    "        return totalIncome,totalExpense\n",
    "    \n",
    "    def addTransaction(self,type,category,amount,description,date):\n",
    "        transaction={\"type\":type,\"category\":category,\"amount\":amount,\"description\":description,\"date\":date}\n",
    "        self.transactionDetails[\"details\"].append(transaction)\n",
    "    \n",
    "    def writeTransactions(self):\n",
    "        file=open(\"Expense.csv\",\"w+\")\n",
    "        file.write(\"Type,Expense Category,Amount,Description,Date\\n\")\n",
    "        for i in self.transactionDetails[\"details\"]:\n",
    "            date=str(i[\"date\"]).strip()\n",
    "            file.write(i[\"type\"]+\",\"+i[\"category\"]+\",\"+i[\"amount\"]+\",\"+i[\"description\"]+\",\"+date+\"\\n\")\n",
    "        file.close()\n",
    "\n",
    "\n",
    "order=expenseTracker()\n",
    "order.retrieveTransactions()\n",
    "while True:\n",
    "    print(\"1.Add New Transaction\\n2.Calculate Total Income and Expense\\n3.Exit\")\n",
    "    choice=int(input(\"Select your action:\"))\n",
    "    if choice==1:\n",
    "        type=input(\"Enter the type of transaction (Income/Expense):\")\n",
    "        category=input(\"Enter the category:\")\n",
    "        amount=input(\"Enter the amount:\")\n",
    "        description=input(\"Enter the description of transaction:\")\n",
    "        date=input(\"Enter the date mm/dd/yyyy:\")\n",
    "        order.addTransaction(type,category,amount,description,date)\n",
    "    elif choice==2:\n",
    "        totalIncome,totalExpense=order.calculateTotal()\n",
    "        print(\"Total Income=\",totalIncome,\"\\nTotal Expense=\",totalExpense)\n",
    "        order.writeTransactions()\n",
    "    elif choice==3:\n",
    "        order.writeTransactions()\n",
    "        exit()"
   ]
  }
 ],
 "metadata": {
  "kernelspec": {
   "display_name": "base",
   "language": "python",
   "name": "python3"
  },
  "language_info": {
   "codemirror_mode": {
    "name": "ipython",
    "version": 3
   },
   "file_extension": ".py",
   "mimetype": "text/x-python",
   "name": "python",
   "nbconvert_exporter": "python",
   "pygments_lexer": "ipython3",
   "version": "3.11.3"
  },
  "orig_nbformat": 4
 },
 "nbformat": 4,
 "nbformat_minor": 2
}
