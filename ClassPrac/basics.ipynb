{
 "cells": [
  {
   "cell_type": "code",
   "execution_count": 1,
   "metadata": {},
   "outputs": [],
   "source": [
    "#if expression:\n",
    "\n",
    "#      statements unider if"
   ]
  },
  {
   "cell_type": "code",
   "execution_count": 2,
   "metadata": {},
   "outputs": [
    {
     "name": "stdout",
     "output_type": "stream",
     "text": [
      "Star of Program\n",
      "The value is Five\n",
      "Program End\n"
     ]
    }
   ],
   "source": [
    "print(\"Star of Program\")\n",
    "a=5\n",
    "if a==5:\n",
    "    print(\"The value is Five\")\n",
    "print(\"Program End\")"
   ]
  },
  {
   "cell_type": "code",
   "execution_count": 3,
   "metadata": {},
   "outputs": [
    {
     "name": "stdout",
     "output_type": "stream",
     "text": [
      "Start of Program\n",
      "not matched\n",
      "Program End\n"
     ]
    }
   ],
   "source": [
    "print(\"Start of Program\")\n",
    "a=int(input(\"Enter a number\"))\n",
    "if a==5:\n",
    "    print(\"The value is Five\")\n",
    "else:\n",
    "    print(\"not matched\")\n",
    "print(\"Program End\")\n"
   ]
  },
  {
   "cell_type": "code",
   "execution_count": 4,
   "metadata": {},
   "outputs": [
    {
     "name": "stdout",
     "output_type": "stream",
     "text": [
      "Even number\n"
     ]
    }
   ],
   "source": [
    "a=int(input(\"enter a number\"))\n",
    "if a%2==0:\n",
    "    print(\"Even number\")\n",
    "else: \n",
    "    print(\"odd number\")"
   ]
  },
  {
   "cell_type": "code",
   "execution_count": 5,
   "metadata": {},
   "outputs": [
    {
     "data": {
      "text/plain": [
       "'if condition:\\n    if condition:\\n        print(\"second if\")\\nelse:\\n    if condition:\\n        print(\"hello\")\\n        if condition:\\n            print(\"hey\")\\n    else:\\n        print(\"exit\")'"
      ]
     },
     "execution_count": 5,
     "metadata": {},
     "output_type": "execute_result"
    }
   ],
   "source": [
    "'''if condition:\n",
    "    if condition:\n",
    "        print(\"second if\")\n",
    "else:\n",
    "    if condition:\n",
    "        print(\"hello\")\n",
    "        if condition:\n",
    "            print(\"hey\")\n",
    "    else:\n",
    "        print(\"exit\")'''"
   ]
  },
  {
   "cell_type": "code",
   "execution_count": 6,
   "metadata": {},
   "outputs": [
    {
     "name": "stdout",
     "output_type": "stream",
     "text": [
      "b is greater\n"
     ]
    }
   ],
   "source": [
    "a=int(input(\"enter 1st number\"))\n",
    "b=int(input(\"enter 2nd number\"))\n",
    "c=int(input(\"enter 3rd number\"))\n",
    "if a>b and a>c:\n",
    "    print(\"a is greater\")\n",
    "elif b>a and b>c:\n",
    "    print(\"b is greater\")\n",
    "elif c>a and c>b:\n",
    "    print(\"c is greater\")"
   ]
  },
  {
   "cell_type": "code",
   "execution_count": 7,
   "metadata": {},
   "outputs": [],
   "source": [
    "#with the same input , try to sort the number in ascending order or descending order based on user choice\n"
   ]
  },
  {
   "cell_type": "code",
   "execution_count": 8,
   "metadata": {},
   "outputs": [
    {
     "name": "stdout",
     "output_type": "stream",
     "text": [
      "two is found\n"
     ]
    }
   ],
   "source": [
    "listex=[\"one\",\"two\",\"three\",\"four\"]\n",
    "if \"two\" in listex:\n",
    "    print(\"two is found\")"
   ]
  },
  {
   "cell_type": "code",
   "execution_count": 9,
   "metadata": {},
   "outputs": [
    {
     "name": "stdout",
     "output_type": "stream",
     "text": [
      "listex+newList\n",
      "['one', 'two', 'three', 'four', ['five', 'six', 'seven'], 'five', 'six', 'seven']\n"
     ]
    }
   ],
   "source": [
    "newList=[\"five\",\"six\",\"seven\"]\n",
    "print(\"listex+newList\")\n",
    "n=listex.append(newList)\n",
    "print(listex+newList)"
   ]
  },
  {
   "cell_type": "code",
   "execution_count": 10,
   "metadata": {},
   "outputs": [
    {
     "name": "stdout",
     "output_type": "stream",
     "text": [
      "['one', 'TWO', 'three', 'four', ['five', 'six', 'seven']]\n"
     ]
    }
   ],
   "source": [
    "listex[1]=\"TWO\"\n",
    "print(listex)"
   ]
  },
  {
   "cell_type": "code",
   "execution_count": 11,
   "metadata": {},
   "outputs": [
    {
     "name": "stdout",
     "output_type": "stream",
     "text": [
      "['TWO', 'three', 'four']\n"
     ]
    }
   ],
   "source": [
    "print(listex[1:4])"
   ]
  },
  {
   "cell_type": "code",
   "execution_count": 12,
   "metadata": {},
   "outputs": [
    {
     "name": "stdout",
     "output_type": "stream",
     "text": [
      "['one', 'TWO', 'three', 'four']\n"
     ]
    }
   ],
   "source": [
    "listex.pop()\n",
    "print(listex)"
   ]
  },
  {
   "cell_type": "code",
   "execution_count": 13,
   "metadata": {},
   "outputs": [
    {
     "name": "stdout",
     "output_type": "stream",
     "text": [
      "['one', 'TWO', 'three']\n"
     ]
    }
   ],
   "source": [
    "listex.remove(\"four\")\n",
    "print(listex)"
   ]
  },
  {
   "cell_type": "code",
   "execution_count": null,
   "metadata": {},
   "outputs": [],
   "source": []
  },
  {
   "cell_type": "code",
   "execution_count": 14,
   "metadata": {},
   "outputs": [
    {
     "name": "stdout",
     "output_type": "stream",
     "text": [
      "['TWO', 'one', 'three']\n",
      "['three', 'one', 'TWO']\n"
     ]
    }
   ],
   "source": [
    "listex.sort()\n",
    "print(listex)\n",
    "listex.reverse()\n",
    "print(listex)"
   ]
  },
  {
   "cell_type": "code",
   "execution_count": 15,
   "metadata": {},
   "outputs": [
    {
     "ename": "NameError",
     "evalue": "name 'functionName' is not defined",
     "output_type": "error",
     "traceback": [
      "\u001b[1;31m---------------------------------------------------------------------------\u001b[0m",
      "\u001b[1;31mNameError\u001b[0m                                 Traceback (most recent call last)",
      "\u001b[1;32mc:\\Users\\nikki\\GitHub\\MScDSA-MDS171-23122032-Shrutimall\\ClassPrac\\basics.ipynb Cell 16\u001b[0m line \u001b[0;36m2\n\u001b[0;32m      <a href='vscode-notebook-cell:/c%3A/Users/nikki/GitHub/MScDSA-MDS171-23122032-Shrutimall/ClassPrac/basics.ipynb#X21sZmlsZQ%3D%3D?line=0'>1</a>\u001b[0m name\u001b[39m=\u001b[39m\u001b[39m\"\u001b[39m\u001b[39mshruti\u001b[39m\u001b[39m\"\u001b[39m\n\u001b[1;32m----> <a href='vscode-notebook-cell:/c%3A/Users/nikki/GitHub/MScDSA-MDS171-23122032-Shrutimall/ClassPrac/basics.ipynb#X21sZmlsZQ%3D%3D?line=1'>2</a>\u001b[0m ret\u001b[39m=\u001b[39mfunctionName(name)\n\u001b[0;32m      <a href='vscode-notebook-cell:/c%3A/Users/nikki/GitHub/MScDSA-MDS171-23122032-Shrutimall/ClassPrac/basics.ipynb#X21sZmlsZQ%3D%3D?line=2'>3</a>\u001b[0m \u001b[39mprint\u001b[39m(ret)\n",
      "\u001b[1;31mNameError\u001b[0m: name 'functionName' is not defined"
     ]
    }
   ],
   "source": [
    "name=\"shruti\"\n",
    "ret=functionName(name)\n",
    "print(ret)"
   ]
  },
  {
   "cell_type": "markdown",
   "metadata": {},
   "source": [
    "Functions"
   ]
  },
  {
   "cell_type": "code",
   "execution_count": null,
   "metadata": {},
   "outputs": [],
   "source": [
    "def functionName(n):\n",
    "    print(\"Hi m ur 1st function\",n)\n",
    "    return True\n",
    "name=\"Shruti\"\n",
    "functionName(name)"
   ]
  },
  {
   "cell_type": "code",
   "execution_count": null,
   "metadata": {},
   "outputs": [],
   "source": [
    "functionName()"
   ]
  },
  {
   "cell_type": "markdown",
   "metadata": {},
   "source": [
    "File handling"
   ]
  },
  {
   "cell_type": "code",
   "execution_count": null,
   "metadata": {},
   "outputs": [],
   "source": [
    "file=open(\"sample.txt\",\"w+\")"
   ]
  },
  {
   "cell_type": "code",
   "execution_count": null,
   "metadata": {},
   "outputs": [],
   "source": [
    "file.write(\"this is my first \\nline in the file\")"
   ]
  },
  {
   "cell_type": "code",
   "execution_count": null,
   "metadata": {},
   "outputs": [],
   "source": [
    "file.close()"
   ]
  },
  {
   "cell_type": "code",
   "execution_count": null,
   "metadata": {},
   "outputs": [],
   "source": [
    "file_read=open(\"sample.txt\",\"r+\")\n",
    "file_read.readline()"
   ]
  },
  {
   "cell_type": "code",
   "execution_count": null,
   "metadata": {},
   "outputs": [],
   "source": [
    "file_read.readlines()"
   ]
  },
  {
   "cell_type": "markdown",
   "metadata": {},
   "source": [
    "Write a function , that accepts your details annd save into a file"
   ]
  },
  {
   "cell_type": "code",
   "execution_count": null,
   "metadata": {},
   "outputs": [],
   "source": [
    "file1= open(\"sample.txt\",\"w+\")"
   ]
  },
  {
   "cell_type": "code",
   "execution_count": null,
   "metadata": {},
   "outputs": [],
   "source": [
    "file1.write(\"today we studied Python file in the class\")"
   ]
  },
  {
   "cell_type": "code",
   "execution_count": null,
   "metadata": {},
   "outputs": [],
   "source": [
    "file1.close()"
   ]
  },
  {
   "cell_type": "code",
   "execution_count": null,
   "metadata": {},
   "outputs": [],
   "source": [
    "file_read=open(\"sample.txt\",\"r+\")\n",
    "file_read.readline()"
   ]
  },
  {
   "cell_type": "code",
   "execution_count": null,
   "metadata": {},
   "outputs": [],
   "source": [
    "file_read.readlines()"
   ]
  },
  {
   "cell_type": "code",
   "execution_count": null,
   "metadata": {},
   "outputs": [],
   "source": [
    "def reads():\n",
    "    file1= open(\"sample.txt\",\"w+\")\n",
    "    file1.write(\"today we studied Python file in the class\")\n",
    "    file1.close()\n",
    "    file1_read=open(\"sample.txt\",\"r+\")\n",
    "    file1_read.readlines()\n",
    "reads()"
   ]
  },
  {
   "cell_type": "code",
   "execution_count": null,
   "metadata": {},
   "outputs": [],
   "source": [
    "def writeMyDetails(name, phone, email):\n",
    "    fileMyDetails = open(\"name.txt\", \"w+\")\n",
    "    fileMyDetails.write(\"\\nname\\t:\\t\" + name)\n",
    "    fileMyDetails.write(\"\\nPhone\\t:\\t\" + phone)\n",
    "    fileMyDetails.write(\"\\nEmail\\t:\\t\" + email)\n",
    "    fileMyDetails.close()\n",
    "    return True\n",
    "\n",
    "name = input(\"Enter your name: \")\n",
    "phone = input(\"Enter your Phone Number: \")\n",
    "email = input(\"Enter your Email: \")\n",
    "ret = writeMyDetails(name, phone, email)  # Removed the '+' sign before 'name'\n",
    "if ret:\n",
    "    print(\"Your Details are Saved..!\")\n",
    "    print(\"*\" * 30)\n",
    "    for line in open(\"name.txt\", \"r+\").readlines():\n",
    "        print(line)\n",
    "    print(\"*\" * 30)\n",
    "else:\n",
    "    print(\"Error!\")\n",
    "\n"
   ]
  },
  {
   "cell_type": "code",
   "execution_count": null,
   "metadata": {},
   "outputs": [],
   "source": [
    "with open(\"name.txt\",\"w+\") as file:\n",
    "    file.write(\"bfhdbudy\")"
   ]
  },
  {
   "cell_type": "code",
   "execution_count": null,
   "metadata": {},
   "outputs": [],
   "source": [
    "with open(\"order.txt\",\"a+\") as file:\n",
    "    itemname=input(\"item name\")\n",
    "    qty=input(\"Quantity\")\n",
    "    price=input(\"Price\")\n",
    "    str_to_save= itemname+\" \"+qty+\",\"+price+\"\\n\"\n",
    "    file.write(str_to_save)"
   ]
  },
  {
   "cell_type": "code",
   "execution_count": null,
   "metadata": {},
   "outputs": [],
   "source": [
    "for line in open(\"orders.txt\").readlines():\n",
    "    orderDetails=line.strip().split(',')\n",
    "    print(orderDetails)"
   ]
  },
  {
   "cell_type": "code",
   "execution_count": null,
   "metadata": {},
   "outputs": [],
   "source": [
    "a=0 \n",
    "while a<5:\n",
    "    print(a)\n",
    "    a=a+1\n",
    "    # a+=1\n"
   ]
  },
  {
   "cell_type": "code",
   "execution_count": null,
   "metadata": {},
   "outputs": [],
   "source": [
    "#break | pass | continue\n",
    "for item in range(1,20,1):\n",
    "    if item ==10:\n",
    "        break\n",
    "    print(item)\n",
    "print(item)"
   ]
  },
  {
   "cell_type": "code",
   "execution_count": null,
   "metadata": {},
   "outputs": [],
   "source": [
    "for i in range(0,25,10):\n",
    "    if i==15:\n",
    "        break\n",
    "    print(i)"
   ]
  },
  {
   "cell_type": "code",
   "execution_count": null,
   "metadata": {},
   "outputs": [],
   "source": [
    "for i in range(0,25,5):\n",
    "    if i==15:\n",
    "        continue\n",
    "    print(i)"
   ]
  },
  {
   "cell_type": "code",
   "execution_count": null,
   "metadata": {},
   "outputs": [],
   "source": [
    "# SET\n",
    "list_ex=[\"apple\",\"pineapple\",\"Banana\",\"apple\",\"orange\",\"pineapple\"]\n",
    "set_ex=set(list_ex)\n",
    "print(set_ex)\n",
    "# for item in set_ex:\n",
    "#     print(item)\n",
    "\n"
   ]
  },
  {
   "cell_type": "code",
   "execution_count": null,
   "metadata": {},
   "outputs": [],
   "source": [
    "list_ex=[\"apple\",\"pineapple\",\"Banana\",\"apple\",\"orange\",\"pineapple\"]\n",
    "set_ex = set(list_ex)\n",
    "back_to_list=list(set_ex)\n",
    "print(type(list_ex))\n",
    "print(type(set_ex))\n",
    "print(type(back_to_list))"
   ]
  },
  {
   "cell_type": "markdown",
   "metadata": {},
   "source": [
    "Write a program to accept 10 random strings identify the unique items and their count"
   ]
  },
  {
   "cell_type": "code",
   "execution_count": null,
   "metadata": {},
   "outputs": [],
   "source": [
    "list_ex=[]\n",
    "for item in range (0,10,1):\n",
    "    for item in range(0,10,1):\n",
    "        val=input(\"Enter Value:\")\n",
    "        va=val.strip()\n",
    "        val=val.upper()\n",
    "        list_ex.append(val)\n",
    "        \n",
    "    \n",
    "unique=set(list_ex)\n",
    "for item in unique:\n",
    "    count=0\n",
    "    for val in list_ex:\n",
    "        if item==val:\n",
    "            count+=1\n",
    "print(item,\" is present\", count,\" times.\")"
   ]
  },
  {
   "cell_type": "markdown",
   "metadata": {},
   "source": [
    "Dictionary"
   ]
  },
  {
   "cell_type": "code",
   "execution_count": null,
   "metadata": {},
   "outputs": [],
   "source": [
    "my_dict={\"Name\":\"Shruti\",\"age\":22,\"BooleanVal\":True}\n",
    "print(my_dict)"
   ]
  },
  {
   "cell_type": "code",
   "execution_count": null,
   "metadata": {},
   "outputs": [],
   "source": [
    "print(my_dict[\"Name\"])"
   ]
  },
  {
   "cell_type": "code",
   "execution_count": null,
   "metadata": {},
   "outputs": [],
   "source": [
    "my_dict[\"Phone\"]=955524\n",
    "print(my_dict)"
   ]
  },
  {
   "cell_type": "code",
   "execution_count": null,
   "metadata": {},
   "outputs": [],
   "source": [
    "my_dict.values()"
   ]
  },
  {
   "cell_type": "code",
   "execution_count": null,
   "metadata": {},
   "outputs": [],
   "source": [
    "my_dict.keys()\n"
   ]
  },
  {
   "cell_type": "code",
   "execution_count": null,
   "metadata": {},
   "outputs": [],
   "source": [
    "print(my_dict.values())\n",
    "for item in my_dict.keys():\n",
    "    print(item)"
   ]
  },
  {
   "cell_type": "code",
   "execution_count": null,
   "metadata": {},
   "outputs": [],
   "source": [
    "student={\n",
    "    \"mscdsa\": {\n",
    "        \"01\": {\n",
    "            \"name\":\"abhidev\",\n",
    "            \"phone\": \"8766787\"\n",
    "        \n",
    "        },\n",
    "        \"02\": {\n",
    "            \"name\":\"dwug\",\n",
    "            \"phone\": \"987857\"\n",
    "        }\n",
    "    }\n",
    "}"
   ]
  },
  {
   "cell_type": "code",
   "execution_count": null,
   "metadata": {},
   "outputs": [],
   "source": [
    "print(student)"
   ]
  },
  {
   "cell_type": "code",
   "execution_count": null,
   "metadata": {},
   "outputs": [],
   "source": [
    "print(student[\"mscdsa\"])\n"
   ]
  },
  {
   "cell_type": "code",
   "execution_count": null,
   "metadata": {},
   "outputs": [],
   "source": [
    "mscdsb=[\n",
    "    {\n",
    "        \"rollnumber\":56368743829,\n",
    "        \"name\":\"Shruti\",\n",
    "        \"phone\": 674574837,\n",
    "        \"email\":\"abjbhdkdk@sdndkasbuy.com\",\n",
    "\n",
    "    },\n",
    "    {\n",
    "        \"rollnumber\":56368743830,\n",
    "        \"name\":\"Kriti\",\n",
    "        \"phone\": 674574839,\n",
    "        \"email\":\"abjbhguygdu@sdndkasbuy.com\",\n",
    "\n",
    "    }\n",
    "    \n",
    "]\n",
    "print(mscdsb)\n",
    "\n"
   ]
  },
  {
   "cell_type": "code",
   "execution_count": null,
   "metadata": {},
   "outputs": [],
   "source": [
    "for i in mscdsb:\n",
    "    print(i)  "
   ]
  },
  {
   "cell_type": "code",
   "execution_count": null,
   "metadata": {},
   "outputs": [],
   "source": [
    "nameList=[]\n",
    "def storeName():\n",
    "    name=input(\"Enter a name to be saved:\")\n",
    "    name=name.strip().title()\n",
    "    nameList.append(name)\n",
    "    return name\n",
    "\n",
    "def listNames():\n",
    "    print(\"*\")\n",
    "    for name in nameList:\n",
    "        print(name)\n",
    "    print(\"*\"*30)\n",
    "    for name in nameList:\n",
    "        print(name)\n",
    "    print(\"*\"*30)\n",
    "\n",
    "def searchName(search):\n",
    "    search=search.strip().title()\n",
    "    found=False\n",
    "    for name in nameList:\n",
    "        if name == search:\n",
    "            found==True\n",
    "            break\n",
    "    if found==True:\n",
    "        print(\"Name exist in the list\")\n",
    "    else:\n",
    "        print(\"Name exist in the List\")\n",
    "\n",
    "\n",
    "print(\"Name Management- Application\")\n",
    "while True:\n",
    "    print(\"*\"*30)\n",
    "    print(\"1. Enter a Name\")\n",
    "    print(\"2. List the Names\")\n",
    "    print(\"3. Search for a Name\")\n",
    "    print(\"4. Exit\")\n",
    "    print(\"*\"*30)\n",
    "    \n",
    "    choice=input(\"Enter your Choice?\")\n",
    "    print(\"You have entered choice:\",choice)\n",
    "    if int(choice) == 1:\n",
    "        name=storeName()\n",
    "        print(\"Name {} added successfully!\".format(name))\n",
    "    elif int(choice) == 2:\n",
    "        listNames()\n",
    "    elif int(choice) == 3:\n",
    "        name=input(\"Enter a name to be searched\")\n",
    "        searchName(name)\n",
    "    elif int(choice) == 4:\n",
    "        exit()\n",
    "    else:\n",
    "        print(\"Invalid Option..!\")\n",
    "\n",
    "\n"
   ]
  },
  {
   "cell_type": "code",
   "execution_count": null,
   "metadata": {},
   "outputs": [],
   "source": []
  },
  {
   "cell_type": "code",
   "execution_count": null,
   "metadata": {},
   "outputs": [],
   "source": [
    "dict_contact={}\n",
    "def add_conatct():\n",
    "    name=input(\"Enter name\")\n",
    "    phoner=int(input(\"Enter number\"))\n",
    "    email=input(\"Enter Email\")\n",
    "    dict_contact[name]={'Phone':phone,'Email':email}\n",
    "    print(name, \"added to contacts\")\n",
    "\n",
    "def edit_contact():\n",
    "    name=input(\"Enter the name to edit\")\n",
    "    if name in dict_contact():\n",
    "        print(f\"current details for {name}\")\n",
    "        print(f\"phone:{dict_contact[name]['Phone']}\")\n",
    "        print(f\"Email {dict_contact[name]['email']}\")\n",
    "        choice=input(\"What do you want to edit\")\n",
    "        \n",
    "\n",
    "    \n",
    "\n"
   ]
  },
  {
   "cell_type": "code",
   "execution_count": null,
   "metadata": {},
   "outputs": [],
   "source": [
    "sum=0\n",
    "for i in range(1,100):\n",
    "    sum=sum+i\n",
    "print(sum)"
   ]
  },
  {
   "cell_type": "code",
   "execution_count": null,
   "metadata": {},
   "outputs": [],
   "source": [
    "class resturant:\n",
    "    def __init__(self,item,qty):\n",
    "        self.item=item\n",
    "        self.qty=qty\n",
    "        self.menu={\n",
    "            \"rice\":30,\n",
    "            \"chicken\":100\n",
    "        }\n",
    "        \n",
    "    def findCost(self):\n",
    "        total=0\n",
    "        total=self.qty*self.menu[self.item]\n",
    "        print(self.item,self.qty,total)\n",
    "        \n",
    "order=resturant(\"rice\",4)\n",
    "order.findCost()\n",
    "\n",
    "order2=resturant(\"chicken\",3)\n",
    "order2.findCost()"
   ]
  },
  {
   "cell_type": "code",
   "execution_count": null,
   "metadata": {},
   "outputs": [],
   "source": [
    "callable(dict)"
   ]
  },
  {
   "cell_type": "code",
   "execution_count": null,
   "metadata": {},
   "outputs": [],
   "source": [
    "callable(set)"
   ]
  },
  {
   "cell_type": "markdown",
   "metadata": {},
   "source": [
    "#define a class expense tracker that stores the expenses\n",
    "#an income in a dictionary\n",
    "#implement the methosd to \n",
    "#.store the transaction\n",
    "#.view transaction\n",
    "#.calculate the total expense/income\n",
    "Task Lab 09\n",
    "Using the expenseTracker Class continue with the task\n",
    "CREATE A CSV FILE for expense/income\n",
    "load the csv file and populate the dictionary of the expense tracker\n",
    "find the total exopense and income\n",
    "\n",
    "\n",
    "ADDITIONAL TASK\n",
    "Using the concept of menu driven programming.\n",
    "Show the menu options to add new transaction [expense/income]\n",
    "export the updated dictionary to the file.\n"
   ]
  },
  {
   "cell_type": "code",
   "execution_count": null,
   "metadata": {},
   "outputs": [],
   "source": [
    "class expenseTracker():\n",
    "    def __init__(self):\n",
    "        self.transactions={\n",
    "            \"expenses\":[],\n",
    "            \"income\":[],\n",
    "\n",
    "        }\n",
    "    #expense/income\n",
    "    #type/category\n",
    "    #cost/amount\n",
    "    #description on the transaction\n",
    "    def storeTransactions(self,type,category,cost,desc,date):\n",
    "        transaction={\n",
    "            \"category\":category,\n",
    "            \"Cost\":cost,\n",
    "            \"Description\":desc,\n",
    "            \"Date\":date,\n",
    "        }\n",
    "        if type==\"expense\":\n",
    "            self.transactions['expenses'].append(transaction)\n",
    "        else:\n",
    "            self.transactions['income'].append(transaction)\n",
    "        return True\n",
    "    def view_transactions(self):\n",
    "        print(\"INCOME\")\n",
    "        for expense in self.transactions['expenses']:\n",
    "            print(expense)\n",
    "\n",
    "        print(\"EXPENSES\")\n",
    "        for expense in self.transactions['expenses']:\n",
    "            print(expense)\n",
    "            \n",
    "    \n",
    "    def total_incomeExpense(self):\n",
    "        print(\"Total Income\")\n",
    "        total_income=0\n",
    "        for income in self.transactions['income']:\n",
    "            total_income+=income[\"Cost\"]\n",
    "        print(total_income)\n",
    "\n",
    "        print(\"Total Expense\")\n",
    "        total_expense=0\n",
    "        for expenses in self.transactions['expenses']:\n",
    "            total_expense+=expenses[\"Cost\"]\n",
    "        print(total_expense)\n",
    "\n",
    "mytransactions=expenseTracker()\n",
    "mytransactions.storeTransactions(\"Income\",\"pocket money\",10000,\"MDHC\",\"20/09/23\")\n",
    "mytransactions.storeTransactions(\"expense\",\"electricity bill\",1500,\"MDHC\",\"20/09/23\")\n",
    "mytransactions.storeTransactions(\"expense\",\"cafe by the valley\",400,\"MDHC\",\"20/09/23\")\n",
    "mytransactions.storeTransactions(\"expense\",\"Pune\",500,\"MDHC\",\"20/09/23\")\n",
    "\n",
    "mytransactions.view_transactions()\n",
    "mytransactions.total_incomeexpense()\n",
    "\n",
    "        \n",
    "\n"
   ]
  },
  {
   "cell_type": "code",
   "execution_count": null,
   "metadata": {},
   "outputs": [],
   "source": [
    "class expenseTracker:\n",
    "    def __init__(self):\n",
    "        self.transactionDetails={\"details\":[]}\n",
    "\n",
    "    def retrieveTransactions(self):\n",
    "        for i in open(\"Expense.csv\",\"r+\").readlines():\n",
    "            line=i.split(\",\")\n",
    "            if line[2]!=\"Cost\":\n",
    "                transaction={\"type\":line[0],\"category\":line[1],\"amount\":line[2],\"description\":line[3],\"date\":line[4]}\n",
    "                self.transactionDetails[\"details\"].append(transaction)\n",
    "\n",
    "    def calculateTotal(self):\n",
    "        totalIncome=0\n",
    "        totalExpense=0\n",
    "        for i in self.transactionDetails[\"details\"]:\n",
    "            if i[\"type\"]==\"Income\":\n",
    "                totalIncome+=int(i[\"amount\"])\n",
    "            else:\n",
    "                totalExpense+=int(i[\"amount\"])\n",
    "        return totalIncome,totalExpense\n",
    "    \n",
    "    def addTransaction(self,type,category,amount,description,date):\n",
    "        transaction={\"type\":type,\"category\":category,\"amount\":amount,\"description\":description,\"date\":date}\n",
    "        self.transactionDetails[\"details\"].append(transaction)\n",
    "    \n",
    "    def writeTransactions(self):\n",
    "        file=open(\"Expense.csv\",\"w+\")\n",
    "        file.write(\"Type,Expense Category,Amount,Description,Date\\n\")\n",
    "        for i in self.transactionDetails[\"details\"]:\n",
    "            date=str(i[\"date\"]).strip()\n",
    "            file.write(i[\"type\"]+\",\"+i[\"category\"]+\",\"+i[\"amount\"]+\",\"+i[\"description\"]+\",\"+date+\"\\n\")\n",
    "        file.close()\n",
    "\n",
    "\n",
    "order=expenseTracker()\n",
    "order.retrieveTransactions()\n",
    "while True:\n",
    "    print(\"1.Add New Transaction\\n2.Calculate Total Income and Expense\\n3.Exit\")\n",
    "    choice=int(input(\"Select your action:\"))\n",
    "    if choice==1:\n",
    "        type=input(\"Enter the type of transaction (Income/Expense):\")\n",
    "        category=input(\"Enter the category:\")\n",
    "        amount=input(\"Enter the amount:\")\n",
    "        description=input(\"Enter the description of transaction:\")\n",
    "        date=input(\"Enter the date mm/dd/yyyy:\")\n",
    "        order.addTransaction(type,category,amount,description,date)\n",
    "    elif choice==2:\n",
    "        totalIncome,totalExpense=order.calculateTotal()\n",
    "        print(\"Total Income=\",totalIncome,\"\\nTotal Expense=\",totalExpense)\n",
    "        order.writeTransactions()\n",
    "    elif choice==3:\n",
    "        order.writeTransactions()\n",
    "        exit()"
   ]
  },
  {
   "cell_type": "code",
   "execution_count": null,
   "metadata": {},
   "outputs": [],
   "source": [
    "print(\"Adaketlu\")"
   ]
  },
  {
   "cell_type": "code",
   "execution_count": null,
   "metadata": {},
   "outputs": [],
   "source": [
    "class petstore:\n",
    "    def __init__(self,pets, category, breed, color):\n",
    "        self.pets=[]\n",
    "    def store_pet(self,pet, category, breed, color):\n",
    "        self.pet=pet\n",
    "        self.category:category\n",
    "        self.breed:breed\n",
    "        self.color:color\n",
    "        \n",
    "    def store1_pet(self,pet, category, breed, color):\n",
    "        self.pets.append({\"Pet Name\": pet, \"Pet Category\": category, \"Pet Breed\": breed,\"Pet Category\":category})\n",
    "    print(self.pets)\n",
    "\n",
    "    \n",
    "petstore(\"cat\",\"abc\",\"xyz\",\"yellow\")\n",
    "    \n"
   ]
  },
  {
   "cell_type": "code",
   "execution_count": null,
   "metadata": {},
   "outputs": [],
   "source": []
  }
 ],
 "metadata": {
  "kernelspec": {
   "display_name": "base",
   "language": "python",
   "name": "python3"
  },
  "language_info": {
   "codemirror_mode": {
    "name": "ipython",
    "version": 3
   },
   "file_extension": ".py",
   "mimetype": "text/x-python",
   "name": "python",
   "nbconvert_exporter": "python",
   "pygments_lexer": "ipython3",
   "version": "3.11.3"
  },
  "orig_nbformat": 4
 },
 "nbformat": 4,
 "nbformat_minor": 2
}
