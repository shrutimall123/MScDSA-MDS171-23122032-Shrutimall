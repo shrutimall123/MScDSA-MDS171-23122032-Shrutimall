{
 "cells": [
  {
   "cell_type": "markdown",
   "metadata": {},
   "source": [
    "Write a Python Program with the following specifications:\n",
    "There will be a function name create_dataset which will take a dictionary, filename, no.of rows as arguments\n",
    "The dictionary is having the following structure \n",
    "{\n",
    "    \"column_name:[Doamin & value]\n",
    "    \"\n",
    "    \"\n",
    "}\n",
    "Your function will select random values for each of the domains and create a row for you\n",
    "The number of rows that has to created is a parameter that has been taken \n",
    "Save the file eith the required number of rows\n",
    "Load this dataset using pandas and display basic information(shape,size,no.of rows, no. of columns)"
   ]
  },
  {
   "cell_type": "code",
   "execution_count": 17,
   "metadata": {},
   "outputs": [
    {
     "data": {
      "text/html": [
       "<div>\n",
       "<style scoped>\n",
       "    .dataframe tbody tr th:only-of-type {\n",
       "        vertical-align: middle;\n",
       "    }\n",
       "\n",
       "    .dataframe tbody tr th {\n",
       "        vertical-align: top;\n",
       "    }\n",
       "\n",
       "    .dataframe thead th {\n",
       "        text-align: right;\n",
       "    }\n",
       "</style>\n",
       "<table border=\"1\" class=\"dataframe\">\n",
       "  <thead>\n",
       "    <tr style=\"text-align: right;\">\n",
       "      <th></th>\n",
       "      <th>name</th>\n",
       "      <th>reg_no</th>\n",
       "      <th>emailID</th>\n",
       "      <th>phoneNo</th>\n",
       "    </tr>\n",
       "  </thead>\n",
       "  <tbody>\n",
       "    <tr>\n",
       "      <th>0</th>\n",
       "      <td>Shruti</td>\n",
       "      <td>23122032</td>\n",
       "      <td>shruti@gmail.com</td>\n",
       "      <td>232</td>\n",
       "    </tr>\n",
       "    <tr>\n",
       "      <th>1</th>\n",
       "      <td>Aleena</td>\n",
       "      <td>23122106</td>\n",
       "      <td>aleena@gmail.com</td>\n",
       "      <td>453</td>\n",
       "    </tr>\n",
       "    <tr>\n",
       "      <th>2</th>\n",
       "      <td>Anand KJ</td>\n",
       "      <td>23122006</td>\n",
       "      <td>anand@gmail.com</td>\n",
       "      <td>347</td>\n",
       "    </tr>\n",
       "    <tr>\n",
       "      <th>3</th>\n",
       "      <td>Hiran</td>\n",
       "      <td>23122108</td>\n",
       "      <td>hiran@gmail.com</td>\n",
       "      <td>665</td>\n",
       "    </tr>\n",
       "    <tr>\n",
       "      <th>4</th>\n",
       "      <td>Abhidev</td>\n",
       "      <td>23122001</td>\n",
       "      <td>abhidev@gmail.com</td>\n",
       "      <td>435</td>\n",
       "    </tr>\n",
       "  </tbody>\n",
       "</table>\n",
       "</div>"
      ],
      "text/plain": [
       "       name    reg_no            emailID  phoneNo\n",
       "0    Shruti  23122032   shruti@gmail.com      232\n",
       "1    Aleena  23122106   aleena@gmail.com      453\n",
       "2  Anand KJ  23122006    anand@gmail.com      347\n",
       "3     Hiran  23122108    hiran@gmail.com      665\n",
       "4   Abhidev  23122001  abhidev@gmail.com      435"
      ]
     },
     "execution_count": 17,
     "metadata": {},
     "output_type": "execute_result"
    }
   ],
   "source": [
    "import pandas as pd\n",
    "import random\n",
    "\n",
    "dict1={\n",
    "    \"name\":[\"Shruti\",\"Aleena\",\"Anand KJ\",\"Hiran\",\"Abhidev\"],\n",
    "    \"reg_no\":[\"23122032\", \"23122106\",\"23122006\",\"23122108\",\"23122001\"],\n",
    "    \"emailID\":[\"shruti@gmail.com\",\"aleena@gmail.com\",\"anand@gmail.com\",\"hiran@gmail.com\",\"abhidev@gmail.com\"],\n",
    "    \"phoneNo\":[\"232\",\"453\",\"347\",\"665\",\"435\"]\n",
    "}\n",
    "\n",
    "import pandas as pd\n",
    "df = pd.DataFrame(dict1)\n",
    "df.to_csv('my_file.csv', index=False, header=True)\n",
    "df=pd.read_csv(\"my_file.csv\")\n",
    "df\n",
    "df.columns\n",
    "df.describe\n",
    "df\n",
    "\n",
    "\n"
   ]
  },
  {
   "cell_type": "code",
   "execution_count": 13,
   "metadata": {},
   "outputs": [
    {
     "data": {
      "text/plain": [
       "<bound method NDFrame.describe of        name    reg_no            emailID  phoneNo\n",
       "0    shruti  23122032   shruti@gmail.com      232\n",
       "1    Aleena  23122106   aleena@gmail.com      453\n",
       "2  Anand KJ  23122006     anad@gmail.com      347\n",
       "3      Arun  23122108     arun@gmail.com      665\n",
       "4   Abhidev  23122001  abhidev@gmial.com      435>"
      ]
     },
     "execution_count": 13,
     "metadata": {},
     "output_type": "execute_result"
    }
   ],
   "source": [
    "df.describe"
   ]
  },
  {
   "cell_type": "code",
   "execution_count": 18,
   "metadata": {},
   "outputs": [
    {
     "data": {
      "text/plain": [
       "20"
      ]
     },
     "execution_count": 18,
     "metadata": {},
     "output_type": "execute_result"
    }
   ],
   "source": [
    "df.size"
   ]
  },
  {
   "cell_type": "code",
   "execution_count": 20,
   "metadata": {},
   "outputs": [
    {
     "data": {
      "text/plain": [
       "<Axes: ylabel='Frequency'>"
      ]
     },
     "execution_count": 20,
     "metadata": {},
     "output_type": "execute_result"
    },
    {
     "data": {
      "image/png": "[encoded data removed]",
      "text/plain": [
       "<Figure size 640x480 with 1 Axes>"
      ]
     },
     "metadata": {},
     "output_type": "display_data"
    }
   ],
   "source": [
    "df.plot.hist()\n"
   ]
  },
  {
   "cell_type": "code",
   "execution_count": null,
   "metadata": {},
   "outputs": [],
   "source": []
  }
 ],
 "metadata": {
  "kernelspec": {
   "display_name": "base",
   "language": "python",
   "name": "python3"
  },
  "language_info": {
   "codemirror_mode": {
    "name": "ipython",
    "version": 3
   },
   "file_extension": ".py",
   "mimetype": "text/x-python",
   "name": "python",
   "nbconvert_exporter": "python",
   "pygments_lexer": "ipython3",
   "version": "3.11.3"
  }
 },
 "nbformat": 4,
 "nbformat_minor": 2
}
