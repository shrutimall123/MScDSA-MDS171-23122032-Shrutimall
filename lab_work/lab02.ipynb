{
 "cells": [
  {
   "cell_type": "markdown",
   "metadata": {},
   "source": [
    "The Name Collector's Quest\n",
    "\n",
    "In a quaint little village named Harmonyville, there lived a curious individual named Alex. Alex was known for his passion for collecting names. His dream was to create an extensive list of unique names that would reflect the diversity and camaraderie of the village. Alex used to sit in the village junction; as the villagers passed, Alex eagerly approached them and asked for their names. With each encounter, they diligently recorded the names in his notepad.\n",
    "\n",
    "To keep things organized, You were one among the villagers and have decided to create a program to assist them in this endeavour. You asked Alex to begin by defining a list on his laptop instead of his notepad, and you started writing functions to add names.\n",
    "\n",
    "The function that you have defined should do\n",
    "\n",
    "Whenever a new name is encountered, record it.\n",
    "If an existing name comes, the program says the name exists.\n",
    "Alex makes a lot of mistakes; your program also has to do the necessary validations.\n",
    "The function quits when q is entered as a name and prints all the names in the list, and then he has to call the function.\n",
    "As a data analyst of the village, analyse the names in the list.\n",
    "Days turned into weeks and weeks into months. Alex's name collection grew beyond their wildest dreams. The villagers admired their dedication and the beautifully organized list they had created. Alex's program became a legend in Harmonyville, passed down from generation to generation.\n",
    "\n",
    "And so, in the heart of the village, Alex's legacy lived on - a story of names, community, and the power of coding to bring dreams to life."
   ]
  },
  {
   "cell_type": "code",
   "execution_count": 2,
   "metadata": {},
   "outputs": [],
   "source": [
    "list1=[]"
   ]
  },
  {
   "cell_type": "code",
   "execution_count": 6,
   "metadata": {},
   "outputs": [],
   "source": [
    "\n",
    "def name():\n",
    "    name=input(\"Enter the names\")\n",
    "    name=name.strip()\n",
    "    if name ==\"q\":\n",
    "        return 0\n",
    "    elif name in list1:\n",
    "        print(\"name already exist\")\n",
    "    else:\n",
    "        list1.append(name)\n"
   ]
  },
  {
   "cell_type": "code",
   "execution_count": 17,
   "metadata": {},
   "outputs": [
    {
     "name": "stdout",
     "output_type": "stream",
     "text": [
      "['nikita', 'john', 'arun', 'anand', 'shanaya', 'divya', 'fatima', 'riya', 'prajwal', 'devika', 'aleena']\n"
     ]
    }
   ],
   "source": [
    "name()\n",
    "print(list1)"
   ]
  },
  {
   "cell_type": "markdown",
   "metadata": {},
   "source": [
    "name()\n",
    "print(list1)"
   ]
  },
  {
   "cell_type": "code",
   "execution_count": 18,
   "metadata": {},
   "outputs": [
    {
     "name": "stdout",
     "output_type": "stream",
     "text": [
      "['aleena', 'devika', 'prajwal', 'riya', 'fatima', 'divya', 'shanaya', 'anand', 'arun', 'john', 'nikita']\n"
     ]
    }
   ],
   "source": [
    "list1.reverse()\n",
    "print(list1)"
   ]
  },
  {
   "cell_type": "code",
   "execution_count": 19,
   "metadata": {},
   "outputs": [
    {
     "name": "stdout",
     "output_type": "stream",
     "text": [
      "['aleena', 'prajwal', 'riya', 'fatima', 'divya', 'shanaya', 'anand', 'arun', 'john', 'nikita']\n"
     ]
    }
   ],
   "source": [
    "list1.pop(1)\n",
    "print(list1)"
   ]
  },
  {
   "cell_type": "code",
   "execution_count": 20,
   "metadata": {},
   "outputs": [
    {
     "name": "stdout",
     "output_type": "stream",
     "text": [
      "['nikita', 'john', 'arun', 'anand', 'shanaya', 'divya', 'fatima', 'riya', 'prajwal', 'aleena']\n"
     ]
    }
   ],
   "source": [
    "list1.reverse()\n",
    "print(list1)"
   ]
  },
  {
   "cell_type": "code",
   "execution_count": null,
   "metadata": {},
   "outputs": [],
   "source": []
  }
 ],
 "metadata": {
  "kernelspec": {
   "display_name": "base",
   "language": "python",
   "name": "python3"
  },
  "language_info": {
   "codemirror_mode": {
    "name": "ipython",
    "version": 3
   },
   "file_extension": ".py",
   "mimetype": "text/x-python",
   "name": "python",
   "nbconvert_exporter": "python",
   "pygments_lexer": "ipython3",
   "version": "3.11.3"
  },
  "orig_nbformat": 4
 },
 "nbformat": 4,
 "nbformat_minor": 2
}
