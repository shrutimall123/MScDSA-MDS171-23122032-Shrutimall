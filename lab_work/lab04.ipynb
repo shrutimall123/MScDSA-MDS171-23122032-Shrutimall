{
 "cells": [
  {
   "cell_type": "markdown",
   "metadata": {},
   "source": [
    "A Taste of Success: The Restaurant Management System\n",
    "\n",
    "In the heart of the bustling city of Lavasa was a charming little restaurant named \"Culinary Delights.\" Owned by a passionate chef named Chef Amelia, Culinary Delights was renowned for its mouthwatering dishes, warm ambience, and exceptional customer service.\n",
    "\n",
    "Chef Amelia had always dreamed of running her restaurant since she was a child. Her love for cooking led her to culinary school, where she honed her skills and developed her signature recipes. With hard work and determination, she finally opened Culinary Delights, a cosy place where people could savour her culinary creations.\n",
    "\n",
    "As Culinary Delights gained popularity, it faced a significant challenge – managing orders efficiently. Chef Amelia realised that she needed a robust Restaurant Management System (RMS) to maintain the restaurant's reputation.\n",
    "\n",
    "Chef Amelia would like to hire you as a team lead for the talented software developers Mark, Sarah, and David she already has. Together, you will create an advanced RMS that will revolutionise Culinary Delights.\n",
    "\n",
    "The software Chef Amelia is looking for is straightforward and has to store the orders in a file the restaurant gets from its customers.\n",
    "\n",
    "As a data analyst specialist, gather insights from the orders that Your hotel Culinary Delights received from their customer over time and display it to Chef Amelia as she uses your Software Application."
   ]
  },
  {
   "cell_type": "code",
   "execution_count": 1,
   "metadata": {},
   "outputs": [
    {
     "name": "stdout",
     "output_type": "stream",
     "text": [
      "\n",
      "Culinary Delights RMS Menu:\n",
      "1. Add an Order\n",
      "2. Display Orders\n",
      "3. Exit\n",
      "Order added successfully!\n",
      "\n",
      "Culinary Delights RMS Menu:\n",
      "1. Add an Order\n",
      "2. Display Orders\n",
      "3. Exit\n",
      "Invalid choice. Please enter 1, 2, or 3.\n",
      "\n",
      "Culinary Delights RMS Menu:\n",
      "1. Add an Order\n",
      "2. Display Orders\n",
      "3. Exit\n",
      "Order added successfully!\n",
      "\n",
      "Culinary Delights RMS Menu:\n",
      "1. Add an Order\n",
      "2. Display Orders\n",
      "3. Exit\n",
      "Orders received:\n",
      "1. pizza\n",
      "2. burger\n",
      "3. Pizza\n",
      "4. 2\n",
      "\n",
      "Culinary Delights RMS Menu:\n",
      "1. Add an Order\n",
      "2. Display Orders\n",
      "3. Exit\n"
     ]
    }
   ],
   "source": [
    "def add_order(order):\n",
    "    with open(\"orders.txt\", \"a\") as file:\n",
    "        file.write(order + \"\\n\")\n",
    "\n",
    "\n",
    "def display_orders():\n",
    "    with open(\"orders.txt\", \"r\") as file:\n",
    "        orders = file.readlines()\n",
    "        if not orders:\n",
    "            print(\"No orders found.\")\n",
    "        else:\n",
    "            print(\"Orders received:\")\n",
    "            for i, order in enumerate(orders, start=1):\n",
    "                print(f\"{i}. {order.strip()}\")\n",
    "       \n",
    "\n",
    "\n",
    "while True:\n",
    "    print(\"\\nCulinary Delights RMS Menu:\")\n",
    "    print(\"1. Add an Order\")\n",
    "    print(\"2. Display Orders\")\n",
    "    print(\"3. Exit\")\n",
    "\n",
    "    choice = input(\"Enter your choice (1/2/3): \")\n",
    "\n",
    "    if choice == \"1\":\n",
    "        order = input(\"Enter the order details: \")\n",
    "        add_order(order)\n",
    "        print(\"Order added successfully!\")\n",
    "    elif choice == \"2\":\n",
    "        display_orders()\n",
    "    elif choice == \"3\":\n",
    "        print(\"Exiting Culinary Delights RMS. Have a great day!\")\n",
    "        break\n",
    "    else:\n",
    "        print(\"Invalid choice. Please enter 1, 2, or 3.\")"
   ]
  },
  {
   "cell_type": "code",
   "execution_count": null,
   "metadata": {},
   "outputs": [],
   "source": []
  }
 ],
 "metadata": {
  "kernelspec": {
   "display_name": "base",
   "language": "python",
   "name": "python3"
  },
  "language_info": {
   "codemirror_mode": {
    "name": "ipython",
    "version": 3
   },
   "file_extension": ".py",
   "mimetype": "text/x-python",
   "name": "python",
   "nbconvert_exporter": "python",
   "pygments_lexer": "ipython3",
   "version": "3.11.3"
  },
  "orig_nbformat": 4
 },
 "nbformat": 4,
 "nbformat_minor": 2
}
