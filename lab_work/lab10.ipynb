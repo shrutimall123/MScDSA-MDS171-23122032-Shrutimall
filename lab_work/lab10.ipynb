{
 "cells": [
  {
   "cell_type": "markdown",
   "metadata": {},
   "source": [
    "Create a Python Class for managing student details and marks.\n",
    "Define the class and implement the methods of the student class in a menu-driven program for different types of users"
   ]
  },
  {
   "cell_type": "code",
   "execution_count": 4,
   "metadata": {},
   "outputs": [
    {
     "name": "stdout",
     "output_type": "stream",
     "text": [
      "1. Office\n",
      "2. Student\n",
      "1. Add Details\n",
      "2. Serach for student\n",
      "{'name': 'Shruti', 'age': '22', 'classes': 'MSCdsa', 'phoneNo': '675', 'mark': '68'}\n"
     ]
    }
   ],
   "source": [
    "class Studen_Details():\n",
    "    def __init__(self):\n",
    "        self.student={}\n",
    "       \n",
    "    def student_det(self,name,age,classes,phoneNo,mark):\n",
    "        self.student_dict={\n",
    "            \"name\":name,\n",
    "            \"age\":age,\n",
    "            \"classes\":classes,\n",
    "            \"phoneNo\":phoneNo,\n",
    "            \"mark\":mark\n",
    "\n",
    "        }\n",
    "        self.student.update(self.student_dict)\n",
    "\n",
    "    def view_dict(self):\n",
    "        print(self.student)\n",
    "\n",
    "    def search(self):\n",
    "        ask=input(\"Enter what you want to search\")\n",
    "        if ask in self.student.keys():\n",
    "            print(self.student[ask])\n",
    "        else:\n",
    "            print(\"Enter the correct value\")\n",
    "\n",
    "myClass=Studen_Details()\n",
    "\n",
    "print(\"1. Office\")\n",
    "print(\"2. Student\")\n",
    "while True:\n",
    "    choice=input(\"Enter your Choice\")\n",
    "    if choice==\"1\":\n",
    "        print(\"1. Add Details\")\n",
    "        print(\"2. Serach for student\")\n",
    "        while True:\n",
    "            choice2=input(\"Enter your choice\")\n",
    "            if choice2 ==\"1\":\n",
    "                name=input(\"enter your name\")\n",
    "                age=input(\"enter your age\")\n",
    "                classes=input(\"enter your classes\")\n",
    "                phoneNo=input(\"enter your phoneNo\")\n",
    "                mark=input(\"enter your mark\")\n",
    "                myClass.student_det(name,age,classes,phoneNo,mark)\n",
    "            \n",
    "            elif choice2==\"2\":\n",
    "                myClass.search()\n",
    "            else:\n",
    "                break\n",
    "    \n",
    "    elif choice==\"2\":\n",
    "        myClass.view_dict()\n",
    "\n",
    "    else:\n",
    "        break\n",
    "\n",
    "\n",
    "\n",
    "\n",
    "\n",
    "\n",
    "\n",
    "\n"
   ]
  },
  {
   "cell_type": "code",
   "execution_count": null,
   "metadata": {},
   "outputs": [],
   "source": []
  }
 ],
 "metadata": {
  "kernelspec": {
   "display_name": "base",
   "language": "python",
   "name": "python3"
  },
  "language_info": {
   "codemirror_mode": {
    "name": "ipython",
    "version": 3
   },
   "file_extension": ".py",
   "mimetype": "text/x-python",
   "name": "python",
   "nbconvert_exporter": "python",
   "pygments_lexer": "ipython3",
   "version": "3.11.3"
  }
 },
 "nbformat": 4,
 "nbformat_minor": 2
}
