{
 "cells": [
  {
   "cell_type": "markdown",
   "metadata": {},
   "source": [
    "Mix & Match Calculator\n",
    "\n",
    "Create Lists for [Item, Quantity, Price] with 10 random values of your choice.\n",
    "The item list can be of any category of your choice [Food Items, Grocery Items,...] or anything you choose that can be bought.\n",
    "\n",
    "Prepare a CSV file with combinations of these values with the help of random index & looping statements and other control structures we discussed in class.\n",
    "\n",
    "To get a random index or number to access items from the list, you can use the following:\n",
    "random is a library in Python that can be used to generate random numbers.\n",
    "\n",
    "import random # Importing the external library\n",
    "r1 = random.randint(0, 10) # Generating the random number from the range and store it in r1 variable\n",
    "\n",
    "More details of the Random library usage can be found here.\n",
    "\n",
    "Your CSV file should have a minimum of 100 rows created randomly with the data in the list and the random library.\n",
    "Each row in the CSV file will have (item, Quantity, and UnitPrice).\n",
    "\n",
    "After preparing the CSV with Python code, you need to compute\n",
    "The total cost for each row, display the result from the first 5 rows and the last 10 rows\n",
    "Calculate the total cost for each unique item in the dataset.\n",
    "Item Name | Total Quantity | Total\n",
    "Print the minimum & maximum price for each item sold"
   ]
  },
  {
   "cell_type": "code",
   "execution_count": 1,
   "metadata": {},
   "outputs": [
    {
     "ename": "ValueError",
     "evalue": "could not convert string to float: 'TotalCost'",
     "output_type": "error",
     "traceback": [
      "\u001b[1;31m---------------------------------------------------------------------------\u001b[0m",
      "\u001b[1;31mValueError\u001b[0m                                Traceback (most recent call last)",
      "\u001b[1;32mc:\\Users\\nikki\\GitHub\\MScDSA-MDS171-23122032-Shrutimall\\lab_work\\lab05.ipynb Cell 2\u001b[0m line \u001b[0;36m2\n\u001b[0;32m     <a href='vscode-notebook-cell:/c%3A/Users/nikki/GitHub/MScDSA-MDS171-23122032-Shrutimall/lab_work/lab05.ipynb#W1sZmlsZQ%3D%3D?line=23'>24</a>\u001b[0m \u001b[39mfor\u001b[39;00m i, line \u001b[39min\u001b[39;00m \u001b[39menumerate\u001b[39m(lines[\u001b[39m1\u001b[39m:]):  \n\u001b[0;32m     <a href='vscode-notebook-cell:/c%3A/Users/nikki/GitHub/MScDSA-MDS171-23122032-Shrutimall/lab_work/lab05.ipynb#W1sZmlsZQ%3D%3D?line=24'>25</a>\u001b[0m     row \u001b[39m=\u001b[39m line\u001b[39m.\u001b[39mstrip()\u001b[39m.\u001b[39msplit(\u001b[39m'\u001b[39m\u001b[39m,\u001b[39m\u001b[39m'\u001b[39m)\n\u001b[1;32m---> <a href='vscode-notebook-cell:/c%3A/Users/nikki/GitHub/MScDSA-MDS171-23122032-Shrutimall/lab_work/lab05.ipynb#W1sZmlsZQ%3D%3D?line=25'>26</a>\u001b[0m     total_cost \u001b[39m=\u001b[39m \u001b[39mfloat\u001b[39m(row[\u001b[39m3\u001b[39m])\n\u001b[0;32m     <a href='vscode-notebook-cell:/c%3A/Users/nikki/GitHub/MScDSA-MDS171-23122032-Shrutimall/lab_work/lab05.ipynb#W1sZmlsZQ%3D%3D?line=27'>28</a>\u001b[0m     \u001b[39mif\u001b[39;00m i \u001b[39m<\u001b[39m \u001b[39m5\u001b[39m:\n\u001b[0;32m     <a href='vscode-notebook-cell:/c%3A/Users/nikki/GitHub/MScDSA-MDS171-23122032-Shrutimall/lab_work/lab05.ipynb#W1sZmlsZQ%3D%3D?line=28'>29</a>\u001b[0m         total_cost_first_5 \u001b[39m+\u001b[39m\u001b[39m=\u001b[39m total_cost\n",
      "\u001b[1;31mValueError\u001b[0m: could not convert string to float: 'TotalCost'"
     ]
    }
   ],
   "source": [
    "import random\n",
    "\n",
    "items = [\"Apple\", \"Banana\", \"Orange\", \"Grapes\", \"Milk\", \"Bread\", \"Eggs\", \"Chicken\", \"Rice\", \"Pasta\"]\n",
    "quantities = [random.randint(1, 10) for _ in range(10)]\n",
    "prices = [round(random.uniform(1.0, 10.0), 2) for _ in range(10)]\n",
    "\n",
    "with open('shrutimall23122032.csv', 'w') as file:\n",
    "    file.write(\"Item,Quantity,TotalCost\\n\")\n",
    "    file.write(\"Item,Quantity,UnitPrice,TotalCost\\n\")\n",
    "   \n",
    "    for _ in range(100):  \n",
    "        index = random.randint(0, 9)\n",
    "        item = items[index]\n",
    "        quantity = quantities[index]\n",
    "        price = prices[index]\n",
    "        total_cost = quantity * price\n",
    "        file.write(f\"{item},{quantity},{price},{total_cost}\\n\")\n",
    "\n",
    "with open('shrutimall23122032.csv', 'r') as file:\n",
    "    lines = file.readlines()\n",
    "    total_cost_first_5 = 0\n",
    "    total_cost_last_10 = 0\n",
    "   \n",
    "    for i, line in enumerate(lines[1:]):  \n",
    "        row = line.strip().split(',')\n",
    "        total_cost = float(row[3])\n",
    "       \n",
    "        if i < 5:\n",
    "            total_cost_first_5 += total_cost\n",
    "        elif i >= 90:\n",
    "            total_cost_last_10 += total_cost\n",
    "\n",
    "    print(\"Total Cost for First 5 Rows:\", total_cost_first_5)\n",
    "    print(\"Total Cost for Last 10 Rows:\", total_cost_last_10)\n",
    "\n",
    "\n",
    "item_totals = {}\n",
    "for line in lines[1:]:  \n",
    "    row = line.strip().split(',')\n",
    "    item = row[0]\n",
    "    total_cost = float(row[3])\n",
    "   \n",
    "    if item in item_totals:\n",
    "        item_totals[item] += total_cost\n",
    "    else:\n",
    "        item_totals[item] = total_cost\n",
    "\n",
    "print(\"Item Name | Total Quantity | Total\")\n",
    "for item, total_cost in item_totals.items():\n",
    "    total_quantity = sum(int(row[1]) for row in lines[1:] if row.split(',')[0] == item)\n",
    "    print(f\"{item} | {total_quantity} | {total_cost:.2f}\")\n",
    "\n",
    "\n",
    "item_prices = {item: [] for item in items}\n",
    "for line in lines[1:]:  \n",
    "    row = line.strip().split(',')\n",
    "    item = row[0]\n",
    "    price = float(row[2])\n",
    "    item_prices[item].append(price)\n",
    "\n",
    "for item, prices_list in item_prices.items():\n",
    "    min_price = min(prices_list)\n",
    "    max_price = max(prices_list)\n",
    "    print(f\"{item}: Min Price - {min_price:.2f}, Max Price - {max_price:.2f}\")"
   ]
  },
  {
   "cell_type": "code",
   "execution_count": null,
   "metadata": {},
   "outputs": [],
   "source": []
  }
 ],
 "metadata": {
  "kernelspec": {
   "display_name": "base",
   "language": "python",
   "name": "python3"
  },
  "language_info": {
   "codemirror_mode": {
    "name": "ipython",
    "version": 3
   },
   "file_extension": ".py",
   "mimetype": "text/x-python",
   "name": "python",
   "nbconvert_exporter": "python",
   "pygments_lexer": "ipython3",
   "version": "3.11.3"
  },
  "orig_nbformat": 4
 },
 "nbformat": 4,
 "nbformat_minor": 2
}
