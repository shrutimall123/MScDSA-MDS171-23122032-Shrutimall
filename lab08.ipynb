{
 "cells": [
  {
   "cell_type": "markdown",
   "metadata": {},
   "source": [
    "'''Jeeva, a mathematical expert, is looking for an expert in programming who can assist him in creating a Python program for Matrix Multiplication.\n",
    "His program has specific requirements.\n",
    "The matrices have to be saved inside a dictionary.\n",
    "The keys allowed in the dictionaries are [matrix 1, matrix 2, result matrix]\n",
    "The values for the elements in the rows of the matrix have to be saved in the form of a list of lists [[row1][row2]].\n",
    "You must have functions for collecting the matrix and store in the dictionary.\n",
    "Another function to Process the matrix and store it in the dictionary. \n",
    "Another function to Display the result in a file, properly formatted.\n",
    "Menu option to show enter matrix 1, matrix 2, calculate, export to file. If the matrix has been entered, then it should take confirmation from the user before taking the input for matrix 1 or 2 again.\n",
    "Create lab 08.py file or .ipynb file, and upload in GitHub.'''"
   ]
  },
  {
   "cell_type": "code",
   "execution_count": 1,
   "metadata": {},
   "outputs": [
    {
     "name": "stdout",
     "output_type": "stream",
     "text": [
      "\n",
      "Menu:\n",
      "1. Enter Matrix 1\n",
      "2. Enter Matrix 2\n",
      "3. Calculate\n",
      "4. Export to File\n",
      "5. Quit\n"
     ]
    },
    {
     "ename": "ValueError",
     "evalue": "could not convert string to float: ''",
     "output_type": "error",
     "traceback": [
      "\u001b[1;31m---------------------------------------------------------------------------\u001b[0m",
      "\u001b[1;31mValueError\u001b[0m                                Traceback (most recent call last)",
      "\u001b[1;32mc:\\Users\\nikki\\GitHub\\MScDSA-MDS171-23122032-Shrutimall\\lab08.ipynb Cell 2\u001b[0m line \u001b[0;36m6\n\u001b[0;32m     <a href='vscode-notebook-cell:/c%3A/Users/nikki/GitHub/MScDSA-MDS171-23122032-Shrutimall/lab08.ipynb#W3sZmlsZQ%3D%3D?line=63'>64</a>\u001b[0m             collect_matrix(\u001b[39m'\u001b[39m\u001b[39mmatrix 1\u001b[39m\u001b[39m'\u001b[39m)\n\u001b[0;32m     <a href='vscode-notebook-cell:/c%3A/Users/nikki/GitHub/MScDSA-MDS171-23122032-Shrutimall/lab08.ipynb#W3sZmlsZQ%3D%3D?line=64'>65</a>\u001b[0m     \u001b[39melse\u001b[39;00m:\n\u001b[1;32m---> <a href='vscode-notebook-cell:/c%3A/Users/nikki/GitHub/MScDSA-MDS171-23122032-Shrutimall/lab08.ipynb#W3sZmlsZQ%3D%3D?line=65'>66</a>\u001b[0m         collect_matrix(\u001b[39m'\u001b[39m\u001b[39mmatrix 1\u001b[39m\u001b[39m'\u001b[39m)\n\u001b[0;32m     <a href='vscode-notebook-cell:/c%3A/Users/nikki/GitHub/MScDSA-MDS171-23122032-Shrutimall/lab08.ipynb#W3sZmlsZQ%3D%3D?line=66'>67</a>\u001b[0m \u001b[39melif\u001b[39;00m choice \u001b[39m==\u001b[39m \u001b[39m2\u001b[39m:\n\u001b[0;32m     <a href='vscode-notebook-cell:/c%3A/Users/nikki/GitHub/MScDSA-MDS171-23122032-Shrutimall/lab08.ipynb#W3sZmlsZQ%3D%3D?line=67'>68</a>\u001b[0m     \u001b[39mif\u001b[39;00m \u001b[39m'\u001b[39m\u001b[39mmatrix 2\u001b[39m\u001b[39m'\u001b[39m \u001b[39min\u001b[39;00m matrices:\n",
      "\u001b[1;32mc:\\Users\\nikki\\GitHub\\MScDSA-MDS171-23122032-Shrutimall\\lab08.ipynb Cell 2\u001b[0m line \u001b[0;36m1\n\u001b[0;32m      <a href='vscode-notebook-cell:/c%3A/Users/nikki/GitHub/MScDSA-MDS171-23122032-Shrutimall/lab08.ipynb#W3sZmlsZQ%3D%3D?line=7'>8</a>\u001b[0m row \u001b[39m=\u001b[39m []\n\u001b[0;32m      <a href='vscode-notebook-cell:/c%3A/Users/nikki/GitHub/MScDSA-MDS171-23122032-Shrutimall/lab08.ipynb#W3sZmlsZQ%3D%3D?line=8'>9</a>\u001b[0m \u001b[39mfor\u001b[39;00m j \u001b[39min\u001b[39;00m \u001b[39mrange\u001b[39m(num_cols):\n\u001b[1;32m---> <a href='vscode-notebook-cell:/c%3A/Users/nikki/GitHub/MScDSA-MDS171-23122032-Shrutimall/lab08.ipynb#W3sZmlsZQ%3D%3D?line=9'>10</a>\u001b[0m     element \u001b[39m=\u001b[39m \u001b[39mfloat\u001b[39m(\u001b[39minput\u001b[39m(\u001b[39mf\u001b[39m\u001b[39m\"\u001b[39m\u001b[39mEnter element (\u001b[39m\u001b[39m{\u001b[39;00mi\u001b[39m+\u001b[39m\u001b[39m1\u001b[39m\u001b[39m}\u001b[39;00m\u001b[39m, \u001b[39m\u001b[39m{\u001b[39;00mj\u001b[39m+\u001b[39m\u001b[39m1\u001b[39m\u001b[39m}\u001b[39;00m\u001b[39m): \u001b[39m\u001b[39m\"\u001b[39m))\n\u001b[0;32m     <a href='vscode-notebook-cell:/c%3A/Users/nikki/GitHub/MScDSA-MDS171-23122032-Shrutimall/lab08.ipynb#W3sZmlsZQ%3D%3D?line=10'>11</a>\u001b[0m     row\u001b[39m.\u001b[39mappend(element)\n\u001b[0;32m     <a href='vscode-notebook-cell:/c%3A/Users/nikki/GitHub/MScDSA-MDS171-23122032-Shrutimall/lab08.ipynb#W3sZmlsZQ%3D%3D?line=11'>12</a>\u001b[0m matrix\u001b[39m.\u001b[39mappend(row)\n",
      "\u001b[1;31mValueError\u001b[0m: could not convert string to float: ''"
     ]
    }
   ],
   "source": [
    "# Function to collect the matrix and store in the dictionary\n",
    "def collect_matrix(matrix_name):\n",
    "    matrix = []\n",
    "    num_rows = int(input(f\"Enter the number of rows for {matrix_name}: \"))\n",
    "    num_cols = int(input(f\"Enter the number of columns for {matrix_name}: \"))\n",
    "\n",
    "    for i in range(num_rows):\n",
    "        row = []\n",
    "        for j in range(num_cols):\n",
    "            element = float(input(f\"Enter element ({i+1}, {j+1}): \"))\n",
    "            row.append(element)\n",
    "        matrix.append(row)\n",
    "\n",
    "    matrices[matrix_name] = matrix\n",
    "\n",
    "# Function to process the matrix and store it in the dictionary\n",
    "def process_matrices():\n",
    "    matrix1 = matrices.get('matrix 1')\n",
    "    matrix2 = matrices.get('matrix 2')\n",
    "\n",
    "    if matrix1 is None or matrix2 is None:\n",
    "        print(\"Both matrices must be entered first.\")\n",
    "        return\n",
    "\n",
    "    result_matrix = [[0 for _ in range(len(matrix2[0]))] for _ in range(len(matrix1))]\n",
    "\n",
    "    for i in range(len(matrix1)):\n",
    "        for j in range(len(matrix2[0])):\n",
    "            for k in range(len(matrix2)):\n",
    "                result_matrix[i][j] += matrix1[i][k] * matrix2[k][j]\n",
    "\n",
    "    matrices['result matrix'] = result_matrix\n",
    "\n",
    "# Function to display the result in a file, properly formatted\n",
    "def export_to_file():\n",
    "    result_matrix = matrices.get('result matrix')\n",
    "\n",
    "    if result_matrix is None:\n",
    "        print(\"Result matrix must be calculated first.\")\n",
    "        return\n",
    "\n",
    "    with open('result_matrix.txt', 'w') as file:\n",
    "        for row in result_matrix:\n",
    "            file.write('\\t'.join(str(element) for element in row))\n",
    "            file.write('\\n')\n",
    "\n",
    "# Main program\n",
    "matrices = {}\n",
    "\n",
    "while True:\n",
    "    print(\"\\nMenu:\")\n",
    "    print(\"1. Enter Matrix 1\")\n",
    "    print(\"2. Enter Matrix 2\")\n",
    "    print(\"3. Calculate\")\n",
    "    print(\"4. Export to File\")\n",
    "    print(\"5. Quit\")\n",
    "\n",
    "    choice = int(input(\"Enter your choice: \"))\n",
    "\n",
    "    if choice == 1:\n",
    "        if 'matrix 1' in matrices:\n",
    "            overwrite = input(\"Matrix 1 already exists. Do you want to overwrite? (yes/no): \")\n",
    "            if overwrite.lower() == 'yes':\n",
    "                collect_matrix('matrix 1')\n",
    "        else:\n",
    "            collect_matrix('matrix 1')\n",
    "    elif choice == 2:\n",
    "        if 'matrix 2' in matrices:\n",
    "            overwrite = input(\"Matrix 2 already exists. Do you want to overwrite? (yes/no): \")\n",
    "            if overwrite.lower() == 'yes':\n",
    "                collect_matrix('matrix 2')\n",
    "        else:\n",
    "            collect_matrix('matrix 2')\n",
    "    elif choice == 3:\n",
    "        process_matrices()\n",
    "        print(\"Matrices processed.\")\n",
    "    elif choice == 4:\n",
    "        export_to_file()\n",
    "        print(\"Result matrix exported to 'result_matrix.txt'.\")\n",
    "    elif choice == 5:\n",
    "        break\n",
    "    else:\n",
    "        print(\"Invalid choice. Please try again.\")"
   ]
  },
  {
   "cell_type": "code",
   "execution_count": null,
   "metadata": {},
   "outputs": [],
   "source": []
  }
 ],
 "metadata": {
  "kernelspec": {
   "display_name": "base",
   "language": "python",
   "name": "python3"
  },
  "language_info": {
   "codemirror_mode": {
    "name": "ipython",
    "version": 3
   },
   "file_extension": ".py",
   "mimetype": "text/x-python",
   "name": "python",
   "nbconvert_exporter": "python",
   "pygments_lexer": "ipython3",
   "version": "3.11.3"
  },
  "orig_nbformat": 4
 },
 "nbformat": 4,
 "nbformat_minor": 2
}
